{
 "cells": [
  {
   "cell_type": "markdown",
   "id": "bd2b9bce",
   "metadata": {},
   "source": [
    "Ejercicio 2: crea una celda de descuento con el título del cuaderno\n",
    "\n",
    "Cree una celda de rebajas con el título Data Science Tools and Ecosystemusando un encabezado de estilo H1.\n",
    "Tome una captura de pantalla de la celda de descuento y asígnele el nombre 2-title.png(las imágenes se pueden guardar con la extensión .jpg o .png)."
   ]
  },
  {
   "cell_type": "markdown",
   "id": "58d5c4a8",
   "metadata": {},
   "source": [
    "# Data Science Tools and Ecosystem"
   ]
  },
  {
   "cell_type": "markdown",
   "id": "6aafe9dc",
   "metadata": {},
   "source": [
    "Ejercicio 3: crea una celda de descuento para una introducción\n",
    "\n",
    "Escriba una oración introductoria sobre el cuaderno como la siguiente:"
   ]
  },
  {
   "cell_type": "markdown",
   "id": "2f27513e",
   "metadata": {},
   "source": [
    "### In this notebook, Data Science Tools and Ecosystem are summarized"
   ]
  },
  {
   "cell_type": "markdown",
   "id": "4f9597fc",
   "metadata": {},
   "source": [
    "### *Objetives*\n",
    "- List popular languajes for data science\n",
    "- Main Librarys in Python and R.\n",
    "- Introduction to Github\n"
   ]
  },
  {
   "cell_type": "markdown",
   "id": "8faa6e5f",
   "metadata": {},
   "source": [
    "Ejercicio 4: cree una celda de descuento para enumerar los lenguajes de ciencia de datos\n",
    "\n",
    "Inicie la celda con una línea general como:\n",
    "\n",
    "Some of the popular languages that Data Scientists use are:\n",
    "Luego, cree una ordered listlista (es decir, numerada) de 3 (o más) idiomas de uso común para la ciencia de datos."
   ]
  },
  {
   "cell_type": "markdown",
   "id": "a6f7e4b0",
   "metadata": {},
   "source": [
    "### Some of the popular languages that Data Scientist use are: \n",
    "1. Python\n",
    "2. R\n",
    "3. C++\n",
    "4. Java"
   ]
  },
  {
   "cell_type": "markdown",
   "id": "87f56fdc",
   "metadata": {},
   "source": [
    "Ejercicio 5: cree una celda de descuento para enumerar las bibliotecas de ciencia de datos\n",
    "\n",
    "Agregue una línea de resumen a la celda como:\n",
    "\n",
    "Some of the commonly used libraries used by Data Scientists include:\n",
    "Debajo de esta línea, agregue una ordered listlista de 3 (o más) bibliotecas de uso común en ciencia de datos."
   ]
  },
  {
   "cell_type": "markdown",
   "id": "c574ec03",
   "metadata": {},
   "source": [
    "### Some of the commonly used libraries used by Data Scientists include: \n",
    "1. NumPy\n",
    "2. Pandas\n",
    "3. Matplotlib\n",
    "4. SciPy"
   ]
  },
  {
   "cell_type": "markdown",
   "id": "65076b7f",
   "metadata": {},
   "source": [
    "Ejercicio 6: cree una celda de descuento con una tabla de herramientas de ciencia de datos\n",
    "\n",
    "Cree una tabla de una sola columna en esta celda con la primera fila que contiene el encabezado Data Science Tools. Las siguientes tres filas de la tabla deben indicar tres herramientas de código abierto del entorno de desarrollo utilizadas en la ciencia de datos."
   ]
  },
  {
   "cell_type": "markdown",
   "id": "5c8111b0",
   "metadata": {},
   "source": [
    "|Data Science Tools|\n",
    "|------------------|\n",
    "|Python|\n",
    "|R|\n",
    "|Github|"
   ]
  },
  {
   "cell_type": "markdown",
   "id": "49b5167d",
   "metadata": {},
   "source": [
    "Ejercicio 7: cree una celda de descuento que presente ejemplos de expresiones aritméticas\n",
    "\n",
    "Agregue una línea en esta celda con encabezado de estilo H3 con texto como:\n",
    "\n",
    "Below are a few examples of evaluating arithmetic expressions in Python"
   ]
  },
  {
   "cell_type": "markdown",
   "id": "350b239b",
   "metadata": {},
   "source": [
    "### Below are a few examples of evaluating arithmetic expressions in Python\n",
    "\n",
    "- 2+3\n",
    "- 6/5\n",
    "- 3*(4.5-1)\n"
   ]
  },
  {
   "cell_type": "markdown",
   "id": "b2eec74b",
   "metadata": {},
   "source": [
    "Ejercicio 8: crea una celda de código para multiplicar y sumar números\n",
    "\n",
    "En esta celda de código, evalúe la expresión (3*4)+5.\n",
    "Inserte una línea de comentario antes de la expresión para explicar la operación, por ejemplo  This a simple arithmetic expression to mutiply then add integers.\n",
    "Luego ejecute la celda para asegurarse de que la expresión devuelva el resultado esperado de 17"
   ]
  },
  {
   "cell_type": "code",
   "execution_count": 1,
   "id": "a980e7f2",
   "metadata": {},
   "outputs": [
    {
     "data": {
      "text/plain": [
       "17"
      ]
     },
     "execution_count": 1,
     "metadata": {},
     "output_type": "execute_result"
    }
   ],
   "source": [
    "#This is a simple arithmetic expression to multiply and then add integers\n",
    "\n",
    "(3*4)+5"
   ]
  },
  {
   "cell_type": "markdown",
   "id": "83c29f23",
   "metadata": {},
   "source": [
    "Ejercicio 9: cree una celda de código para convertir minutos a horas\n",
    "\n",
    "En esta celda de código, escriba una expresión que se convierta 200 minutesen hours.\n",
    "Inserte una línea de comentario antes de la expresión para explicar la operación, por ejemplo  This will convert 200 minutes to hours by diving by 60.\n",
    "Ejecute la celda para evaluar la expresión."
   ]
  },
  {
   "cell_type": "code",
   "execution_count": 2,
   "id": "b7cd3218",
   "metadata": {},
   "outputs": [
    {
     "name": "stdout",
     "output_type": "stream",
     "text": [
      "3.3333333333333335\n"
     ]
    }
   ],
   "source": [
    "#This will convert 200 minutes to hours by dividing by 60\n",
    "\n",
    "minutes = 200\n",
    "print(minutes/60)\n"
   ]
  },
  {
   "cell_type": "markdown",
   "id": "a91cb663",
   "metadata": {},
   "source": [
    "Ejercicio 11: cree una celda de descuento para indicar el nombre del autor\n",
    "\n",
    "En esta celda de descuento, la celda de descuento incluye el siguiente texto Authoren formato H2 style heading. Incluya your namecomo texto normal debajo de la palabra Author"
   ]
  },
  {
   "cell_type": "markdown",
   "id": "5a9f175d",
   "metadata": {},
   "source": [
    "## Autor\n",
    "Joaquín Merino Gila"
   ]
  },
  {
   "cell_type": "code",
   "execution_count": null,
   "id": "899029db",
   "metadata": {},
   "outputs": [],
   "source": []
  }
 ],
 "metadata": {
  "kernelspec": {
   "display_name": "Python 3 (ipykernel)",
   "language": "python",
   "name": "python3"
  },
  "language_info": {
   "codemirror_mode": {
    "name": "ipython",
    "version": 3
   },
   "file_extension": ".py",
   "mimetype": "text/x-python",
   "name": "python",
   "nbconvert_exporter": "python",
   "pygments_lexer": "ipython3",
   "version": "3.10.9"
  }
 },
 "nbformat": 4,
 "nbformat_minor": 5
}
